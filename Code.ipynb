{
 "cells": [
  {
   "cell_type": "code",
   "execution_count": 1,
   "id": "2fc73d73-fd25-47c3-a079-0a0861b1dc3f",
   "metadata": {},
   "outputs": [
    {
     "name": "stdout",
     "output_type": "stream",
     "text": [
      "Keys in the dataset: dict_keys(['data', 'target', 'frame', 'categories', 'feature_names', 'target_names', 'DESCR', 'details', 'url'])\n"
     ]
    }
   ],
   "source": [
    "from sklearn.datasets import fetch_openml\n",
    "\n",
    "# Load the MNIST dataset\n",
    "mnist = fetch_openml('mnist_784', version=1)\n",
    "\n",
    "# Display the keys to understand what metadata is available\n",
    "print(\"Keys in the dataset:\", mnist.keys())"
   ]
  },
  {
   "cell_type": "code",
   "execution_count": 2,
   "id": "3d994bfd-593f-4c5b-a90e-2d19c9545a2e",
   "metadata": {},
   "outputs": [
    {
     "name": "stdout",
     "output_type": "stream",
     "text": [
      "Type of X: <class 'numpy.ndarray'>\n",
      "Type of y: <class 'numpy.ndarray'>\n",
      "Shape of X: (70000, 784)\n",
      "Shape of y: (70000,)\n"
     ]
    }
   ],
   "source": [
    "import matplotlib.pyplot as plt\n",
    "import numpy as np\n",
    "from sklearn.datasets import fetch_openml\n",
    "\n",
    "# Load the MNIST dataset\n",
    "mnist = fetch_openml('mnist_784', version=1)\n",
    "X = mnist['data'].to_numpy()  # Convert to NumPy array\n",
    "y = mnist['target'].to_numpy()\n",
    "\n",
    "# Function to display an image with smaller size\n",
    "def show_digit(index):\n",
    "    image = X[index].reshape(28, 28)\n",
    "    label = y[index]\n",
    "    \n",
    "    plt.figure(figsize=(3, 3))  # Set figure size to 3x3 inches\n",
    "    plt.imshow(image, cmap=\"gray\")\n",
    "    plt.title(f\"Label: {label}\")\n",
    "    plt.axis('off')\n",
    "    plt.show()\n",
    "\n",
    "# Check the type of X and y\n",
    "print(f\"Type of X: {type(X)}\")\n",
    "print(f\"Type of y: {type(y)}\")\n",
    "\n",
    "# Check a few other details\n",
    "print(f\"Shape of X: {X.shape}\")\n",
    "print(f\"Shape of y: {y.shape}\")"
   ]
  },
  {
   "cell_type": "code",
   "execution_count": 3,
   "id": "72b53083-de44-493a-995d-8c45031abbdc",
   "metadata": {},
   "outputs": [
    {
     "name": "stdout",
     "output_type": "stream",
     "text": [
      "Training set size: 50000\n",
      "Validation set size: 10000\n",
      "Test set size: 10000\n"
     ]
    }
   ],
   "source": [
    "from sklearn.model_selection import train_test_split\n",
    "\n",
    "# Convert target labels to integers (currently they are strings)\n",
    "y = y.astype(int)\n",
    "\n",
    "# Split the data: first into train+validation (60,000) and test (10,000)\n",
    "X_train_val, X_test, y_train_val, y_test = train_test_split(X, y, test_size=10000, random_state=42)\n",
    "\n",
    "# Now split train+validation into training (50,000) and validation (10,000)\n",
    "X_train, X_val, y_train, y_val = train_test_split(X_train_val, y_train_val, test_size=10000, random_state=42)\n",
    "\n",
    "# Display sizes of the splits\n",
    "print(f\"Training set size: {X_train.shape[0]}\")\n",
    "print(f\"Validation set size: {X_val.shape[0]}\")\n",
    "print(f\"Test set size: {X_test.shape[0]}\")"
   ]
  },
  {
   "cell_type": "code",
   "execution_count": 4,
   "id": "3f162b99-f2fb-46ef-b3d8-0c5f84b91e1d",
   "metadata": {},
   "outputs": [
    {
     "name": "stdout",
     "output_type": "stream",
     "text": [
      "Validation Accuracy of Random Forest: 0.9692\n"
     ]
    }
   ],
   "source": [
    "from sklearn.ensemble import RandomForestClassifier\n",
    "from sklearn.metrics import accuracy_score\n",
    "\n",
    "# Step 1: Initialize the Random Forest classifier\n",
    "rf_clf = RandomForestClassifier(n_estimators=100, random_state=42)\n",
    "\n",
    "# Step 2: Train the classifier on the training set\n",
    "rf_clf.fit(X_train, y_train)\n",
    "\n",
    "# Step 3: Predict on the validation set\n",
    "y_val_pred = rf_clf.predict(X_val)\n",
    "\n",
    "# Step 4: Evaluate the accuracy\n",
    "val_accuracy = accuracy_score(y_val, y_val_pred)\n",
    "print(f\"Validation Accuracy of Random Forest: {val_accuracy:.4f}\")"
   ]
  },
  {
   "cell_type": "code",
   "execution_count": 5,
   "id": "8f47f41a-8c4b-4b9d-b7df-5c982490cd8f",
   "metadata": {},
   "outputs": [
    {
     "name": "stdout",
     "output_type": "stream",
     "text": [
      "Validation Accuracy of Extra-Trees Classifier: 0.9709\n"
     ]
    }
   ],
   "source": [
    "from sklearn.ensemble import ExtraTreesClassifier\n",
    "from sklearn.metrics import accuracy_score\n",
    "\n",
    "# Step 1: Initialize the Extra-Trees classifier\n",
    "et_clf = ExtraTreesClassifier(n_estimators=100, random_state=42)\n",
    "\n",
    "# Step 2: Train the classifier on the training set\n",
    "et_clf.fit(X_train, y_train)\n",
    "\n",
    "# Step 3: Predict on the validation set\n",
    "y_val_pred = et_clf.predict(X_val)\n",
    "\n",
    "# Step 4: Evaluate the accuracy\n",
    "val_accuracy = accuracy_score(y_val, y_val_pred)\n",
    "print(f\"Validation Accuracy of Extra-Trees Classifier: {val_accuracy:.4f}\")"
   ]
  },
  {
   "cell_type": "code",
   "execution_count": 6,
   "id": "375c8120-6924-440d-8d84-bf6594d7f184",
   "metadata": {},
   "outputs": [
    {
     "name": "stdout",
     "output_type": "stream",
     "text": [
      "Validation Accuracy of SVM Classifier: 0.9788\n"
     ]
    }
   ],
   "source": [
    "from sklearn.svm import SVC\n",
    "from sklearn.metrics import accuracy_score\n",
    "\n",
    "# Step 1: Initialize the SVM classifier with an RBF kernel\n",
    "svm_clf = SVC(kernel='rbf', gamma='scale', random_state=42)\n",
    "\n",
    "# Step 2: Train the classifier on the training set\n",
    "svm_clf.fit(X_train, y_train)\n",
    "\n",
    "# Step 3: Predict on the validation set\n",
    "y_val_pred = svm_clf.predict(X_val)\n",
    "\n",
    "# Step 4: Evaluate the accuracy\n",
    "val_accuracy = accuracy_score(y_val, y_val_pred)\n",
    "print(f\"Validation Accuracy of SVM Classifier: {val_accuracy:.4f}\")"
   ]
  },
  {
   "cell_type": "code",
   "execution_count": 7,
   "id": "6099d2d3-66b3-41f5-9867-eb0990f46dcd",
   "metadata": {},
   "outputs": [
    {
     "name": "stdout",
     "output_type": "stream",
     "text": [
      "Validation Accuracy of Voting Classifier (Hard Voting): 0.9740\n"
     ]
    }
   ],
   "source": [
    "from sklearn.ensemble import VotingClassifier\n",
    "\n",
    "# Step 1: Initialize the voting classifier with hard voting\n",
    "voting_clf = VotingClassifier(\n",
    "    estimators=[('rf', rf_clf), ('et', et_clf), ('svm', svm_clf)],\n",
    "    voting='hard'\n",
    ")\n",
    "\n",
    "# Step 2: Train the ensemble on the training set\n",
    "voting_clf.fit(X_train, y_train)\n",
    "\n",
    "# Step 3: Predict on the validation set\n",
    "y_val_pred = voting_clf.predict(X_val)\n",
    "\n",
    "# Step 4: Evaluate the accuracy\n",
    "val_accuracy = accuracy_score(y_val, y_val_pred)\n",
    "print(f\"Validation Accuracy of Voting Classifier (Hard Voting): {val_accuracy:.4f}\")"
   ]
  },
  {
   "cell_type": "code",
   "execution_count": 9,
   "id": "0cca4fe9-bff2-47ef-add4-358a3bcf179a",
   "metadata": {},
   "outputs": [
    {
     "name": "stdout",
     "output_type": "stream",
     "text": [
      "Fitting 3 folds for each of 10 candidates, totalling 30 fits\n",
      "Best parameters for Random Forest: {'n_estimators': 400, 'min_samples_split': 2, 'max_features': 'sqrt', 'max_depth': None}\n",
      "Validation Accuracy of Tuned Random Forest: 0.9709\n"
     ]
    }
   ],
   "source": [
    "from sklearn.ensemble import RandomForestClassifier\n",
    "from sklearn.model_selection import RandomizedSearchCV\n",
    "from sklearn.metrics import accuracy_score\n",
    "import numpy as np\n",
    "\n",
    "# Define the refined parameter grid\n",
    "param_distributions = {\n",
    "    'n_estimators': [200, 300, 400, 500],  # Focus on higher numbers of trees\n",
    "    'max_depth': [20, 30, None],           # Removed lower depths for deeper trees\n",
    "    'min_samples_split': [2, 5, 10],       # Retained common split values\n",
    "    'max_features': ['sqrt', 'log2']       # Removed 'None' to prevent long runs\n",
    "}\n",
    "\n",
    "# Initialize the Random Forest classifier\n",
    "rf_clf = RandomForestClassifier(random_state=42)\n",
    "\n",
    "# Set up RandomizedSearchCV\n",
    "random_search = RandomizedSearchCV(\n",
    "    rf_clf, param_distributions, \n",
    "    n_iter=10,  # Number of parameter settings to try\n",
    "    scoring='accuracy',  # Use accuracy as the evaluation metric\n",
    "    cv=3,  # Increased to 3-fold cross-validation for more reliable evaluation\n",
    "    verbose=1,  # Moderate verbosity to track progress without excessive output\n",
    "    random_state=42,\n",
    "    n_jobs=-2  # Use all but one core\n",
    ")\n",
    "\n",
    "# Run the random search on the training data\n",
    "random_search.fit(X_train, y_train)\n",
    "\n",
    "# Get the best parameters and evaluate on the validation set\n",
    "best_rf_clf = random_search.best_estimator_\n",
    "y_val_pred = best_rf_clf.predict(X_val)\n",
    "val_accuracy = accuracy_score(y_val, y_val_pred)\n",
    "\n",
    "print(\"Best parameters for Random Forest:\", random_search.best_params_)\n",
    "print(f\"Validation Accuracy of Tuned Random Forest: {val_accuracy:.4f}\")"
   ]
  },
  {
   "cell_type": "code",
   "execution_count": 10,
   "id": "a0d40221-aac2-4aee-97b2-6dc89a4813ff",
   "metadata": {},
   "outputs": [
    {
     "name": "stdout",
     "output_type": "stream",
     "text": [
      "Fitting 3 folds for each of 10 candidates, totalling 30 fits\n",
      "[CV] END max_depth=20, max_features=None, min_samples_leaf=1, min_samples_split=2, n_estimators=500; total time=19.3min\n"
     ]
    },
    {
     "name": "stderr",
     "output_type": "stream",
     "text": [
      "/opt/anaconda3/lib/python3.12/site-packages/joblib/externals/loky/process_executor.py:752: UserWarning: A worker stopped while some jobs were given to the executor. This can be caused by a too short worker timeout or by a memory leak.\n",
      "  warnings.warn(\n"
     ]
    },
    {
     "name": "stdout",
     "output_type": "stream",
     "text": [
      "[CV] END max_depth=20, max_features=None, min_samples_leaf=1, min_samples_split=2, n_estimators=500; total time=19.2min\n",
      "Best parameters for Extra-Trees: {'n_estimators': 300, 'min_samples_split': 2, 'min_samples_leaf': 1, 'max_features': 'sqrt', 'max_depth': 30}\n",
      "Validation Accuracy of Tuned Extra-Trees: 0.9736\n"
     ]
    }
   ],
   "source": [
    "from sklearn.ensemble import ExtraTreesClassifier\n",
    "from sklearn.model_selection import RandomizedSearchCV\n",
    "from sklearn.metrics import accuracy_score\n",
    "import numpy as np\n",
    "\n",
    "# Define the parameter grid\n",
    "param_distributions = {\n",
    "    'n_estimators': [200, 300, 400, 500],  # Focus on higher values for n_estimators\n",
    "    'max_depth': [20, 30, None],           # Limit depth or allow fully grown trees\n",
    "    'min_samples_split': [2, 5, 10],       # Common split thresholds\n",
    "    'min_samples_leaf': [1, 2, 4],         # Control the minimum leaf size\n",
    "    'max_features': ['sqrt', 'log2']       # Restrict to common feature selection strategies\n",
    "}\n",
    "\n",
    "# Initialize the Extra-Trees classifier\n",
    "et_clf = ExtraTreesClassifier(random_state=42)\n",
    "\n",
    "# Set up RandomizedSearchCV\n",
    "random_search = RandomizedSearchCV(\n",
    "    et_clf, param_distributions, \n",
    "    n_iter=10,  # Number of parameter settings to try\n",
    "    scoring='accuracy',  # Use accuracy as the evaluation metric\n",
    "    cv=3,  # 3-fold cross-validation\n",
    "    verbose=1,  # Moderate verbosity\n",
    "    random_state=42,\n",
    "    n_jobs=9  # Use all but one core\n",
    ")\n",
    "\n",
    "# Run the random search on the training data\n",
    "random_search.fit(X_train, y_train)\n",
    "\n",
    "# Get the best parameters and evaluate on the validation set\n",
    "best_et_clf = random_search.best_estimator_\n",
    "y_val_pred = best_et_clf.predict(X_val)\n",
    "val_accuracy = accuracy_score(y_val, y_val_pred)\n",
    "\n",
    "print(\"Best parameters for Extra-Trees:\", random_search.best_params_)\n",
    "print(f\"Validation Accuracy of Tuned Extra-Trees: {val_accuracy:.4f}\")"
   ]
  },
  {
   "cell_type": "code",
   "execution_count": 18,
   "id": "5efb410e-58d0-4f84-9c5b-c8be40f0d66c",
   "metadata": {},
   "outputs": [
    {
     "name": "stdout",
     "output_type": "stream",
     "text": [
      "Validation Accuracy of SVM Classifier with Correct Parameters: 0.9852\n"
     ]
    }
   ],
   "source": [
    "from sklearn.svm import SVC\n",
    "from sklearn.metrics import accuracy_score\n",
    "\n",
    "# Initialize the SVM classifier with the correct parameters\n",
    "svm_clf = SVC(kernel='rbf', C=10, gamma='scale', probability=True, random_state=42)\n",
    "\n",
    "# Train the classifier on the training set\n",
    "svm_clf.fit(X_train, y_train)\n",
    "\n",
    "# Predict on the validation set\n",
    "y_val_pred = svm_clf.predict(X_val)\n",
    "\n",
    "# Evaluate the accuracy\n",
    "val_accuracy = accuracy_score(y_val, y_val_pred)\n",
    "print(f\"Validation Accuracy of SVM Classifier with Correct Parameters: {val_accuracy:.4f}\")"
   ]
  },
  {
   "cell_type": "code",
   "execution_count": 19,
   "id": "3b7916f0-be80-48a9-9743-b9e14fecc9de",
   "metadata": {},
   "outputs": [
    {
     "name": "stdout",
     "output_type": "stream",
     "text": [
      "Validation Accuracy of Soft Voting Classifier: 0.9841\n"
     ]
    }
   ],
   "source": [
    "from sklearn.ensemble import VotingClassifier\n",
    "from sklearn.metrics import accuracy_score\n",
    "\n",
    "# Use the SVM model with best parameters and probability enabled\n",
    "svm_clf = SVC(kernel='rbf', C=10, gamma='scale', probability=True, random_state=42)\n",
    "\n",
    "# Step 1: Initialize the soft voting classifier\n",
    "voting_clf_soft = VotingClassifier(\n",
    "    estimators=[\n",
    "        ('rf', best_rf_clf),\n",
    "        ('et', best_et_clf),\n",
    "        ('svm', svm_clf)\n",
    "    ],\n",
    "    voting='soft'  # Use soft voting to average predicted probabilities\n",
    ")\n",
    "\n",
    "# Step 2: Train the ensemble on the training set\n",
    "voting_clf_soft.fit(X_train, y_train)\n",
    "\n",
    "# Step 3: Predict on the validation set\n",
    "y_val_pred = voting_clf_soft.predict(X_val)\n",
    "\n",
    "# Step 4: Evaluate the accuracy\n",
    "val_accuracy = accuracy_score(y_val, y_val_pred)\n",
    "print(f\"Validation Accuracy of Soft Voting Classifier: {val_accuracy:.4f}\")"
   ]
  },
  {
   "cell_type": "code",
   "execution_count": 20,
   "id": "c7e4a8a2-d7b4-490b-8327-17b90fbf90d5",
   "metadata": {},
   "outputs": [
    {
     "name": "stdout",
     "output_type": "stream",
     "text": [
      "Test Accuracy of Soft Voting Classifier: 0.9805\n"
     ]
    }
   ],
   "source": [
    "# Predict on the test set\n",
    "y_test_pred = voting_clf_soft.predict(X_test)\n",
    "\n",
    "# Evaluate the accuracy on the test set\n",
    "test_accuracy = accuracy_score(y_test, y_test_pred)\n",
    "print(f\"Test Accuracy of Soft Voting Classifier: {test_accuracy:.4f}\")"
   ]
  },
  {
   "cell_type": "code",
   "execution_count": null,
   "id": "4a570db8-88d3-41a8-9ce7-9eb366400a70",
   "metadata": {},
   "outputs": [],
   "source": [
    "# ---------------------------------------------\n",
    "# Project Summary: Ensemble Learning with MNIST\n",
    "# ---------------------------------------------\n",
    "\n",
    "# 1. Problem Statement:\n",
    "#    - Classify digits (0-9) from the MNIST dataset using ensemble methods.\n",
    "#    - Split data into training (50k), validation (10k), and test (10k) sets.\n",
    "#    - Train hyperparameter-tuned Random Forest, Extra-Trees, and SVM classifiers,\n",
    "#      and combine them using voting ensembles.\n",
    "\n",
    "# 2. Individual Classifier Results (after hyperparameter tuning):\n",
    "#    - Random Forest: Validation Accuracy ~ 97.09%\n",
    "#    - Extra-Trees: Validation Accuracy ~ 97.36%\n",
    "#    - SVM (RBF kernel): Validation Accuracy ~ 98.52%\n",
    "\n",
    "# 3. Ensemble Approach:\n",
    "#    a) Hard Voting:\n",
    "#       - Combined classifiers using hard voting.\n",
    "#       - Validation Accuracy: ~ 97.40%\n",
    "#    b) Soft Voting:\n",
    "#       - Combined classifiers using soft voting (averaging probabilities).\n",
    "#       - Validation Accuracy: ~ 98.41%\n",
    "#       - Test Accuracy: ~ 98.05%\n",
    "\n",
    "# 4. Conclusion:\n",
    "#    - The soft voting ensemble achieved the best performance,\n",
    "#      with a final test accuracy of 98.05%.\n",
    "#    - Combining hyperparameter-tuned models using soft voting improved\n",
    "#      overall robustness compared to individual classifiers and hard voting."
   ]
  }
 ],
 "metadata": {
  "kernelspec": {
   "display_name": "Python 3 (ipykernel)",
   "language": "python",
   "name": "python3"
  },
  "language_info": {
   "codemirror_mode": {
    "name": "ipython",
    "version": 3
   },
   "file_extension": ".py",
   "mimetype": "text/x-python",
   "name": "python",
   "nbconvert_exporter": "python",
   "pygments_lexer": "ipython3",
   "version": "3.12.4"
  }
 },
 "nbformat": 4,
 "nbformat_minor": 5
}
